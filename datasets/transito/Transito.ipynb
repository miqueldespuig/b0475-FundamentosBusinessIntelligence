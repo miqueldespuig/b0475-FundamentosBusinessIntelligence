{
 "cells": [
  {
   "cell_type": "markdown",
   "id": "92706ce2",
   "metadata": {},
   "source": [
    "# Obtener Datos Tránsito\n",
    "\n",
    "Debido a varios intentos de procesar automàticamente los CSV directamente desde la API de OpenData BCN vemos que:\n",
    "* PowerQuery consulta múltiples veces el portal para calcular las transformaciones\n",
    "* PowerQuery hace demasiadas consultas al portal, lo que hace que nos hagan throttling\n",
    "* Recibimos muchísimos TimeOut, no és viable trabajar-lo desde allí\n",
    "\n",
    "A continuación un pequeño script para descargar los archivos CSV pre-filtrados a la carpeta del proyecto."
   ]
  },
  {
   "cell_type": "markdown",
   "id": "2dea2ddb",
   "metadata": {},
   "source": [
    "## Descarga de ficheros"
   ]
  },
  {
   "cell_type": "code",
   "execution_count": 52,
   "id": "c03d96ef",
   "metadata": {},
   "outputs": [],
   "source": [
    "import requests\n",
    "import time"
   ]
  },
  {
   "cell_type": "code",
   "execution_count": 53,
   "id": "ffff0ded",
   "metadata": {},
   "outputs": [],
   "source": [
    "# Parámetros API\n",
    "api_endpoint = \"https://opendata-ajuntament.barcelona.cat/data/api/3\"\n",
    "api_resource = \"/action\" + \"/package_show?id=trams\""
   ]
  },
  {
   "cell_type": "code",
   "execution_count": 54,
   "id": "c4336eb6",
   "metadata": {},
   "outputs": [],
   "source": [
    "# Llamada a la API para que nos indique enlaces de descarga\n",
    "response = requests.get(api_endpoint + api_resource)"
   ]
  },
  {
   "cell_type": "code",
   "execution_count": 55,
   "id": "598049b6",
   "metadata": {},
   "outputs": [],
   "source": [
    "# Parsear la lista de recursos a descargar de la respuesta de la API\n",
    "resources =  [ {\"name\": resource[\"name\"], \"url\": resource[\"url\"]} for resource in response.json()[\"result\"][\"resources\"] ]\n",
    "# Filtrar la lista de recursos a los años para el modelo de BI. Años 2021,2022,2023\n",
    "downloads = [resource for resource in resources if resource[\"name\"].split(\"_\")[0] in (\"2021\",\"2022\",\"2023\")]"
   ]
  },
  {
   "cell_type": "code",
   "execution_count": null,
   "id": "36d470c4",
   "metadata": {},
   "outputs": [
    {
     "name": "stdout",
     "output_type": "stream",
     "text": [
      "[{'name': '2023_01_Gener_TRAMS_TRAMS.csv',\n",
      "  'url': 'https://opendata-ajuntament.barcelona.cat/data/dataset/8319c2b1-4c21-4962-9acd-6db4c5ff1148/resource/d3782748-9818-4d3d-a09e-4e8caecb341a/download'},\n",
      " {'name': '2023_02_Febrer_TRAMS_TRAMS.csv',\n",
      "  'url': 'https://opendata-ajuntament.barcelona.cat/data/dataset/8319c2b1-4c21-4962-9acd-6db4c5ff1148/resource/56419f66-7991-4263-8961-3ad0538463b3/download'},\n",
      " {'name': '2023_03_Marc_TRAMS_TRAMS.csv',\n",
      "  'url': 'https://opendata-ajuntament.barcelona.cat/data/dataset/8319c2b1-4c21-4962-9acd-6db4c5ff1148/resource/c10d45dd-a977-47b2-bb09-d12c9530a333/download'},\n",
      " {'name': '2023_04_Abril_TRAMS_TRAMS.csv',\n",
      "  'url': 'https://opendata-ajuntament.barcelona.cat/data/dataset/8319c2b1-4c21-4962-9acd-6db4c5ff1148/resource/2a60352d-410a-4e0b-97f6-82f73b4aec7b/download'},\n",
      " {'name': '2023_05_Maig_TRAMS_TRAMS.csv',\n",
      "  'url': 'https://opendata-ajuntament.barcelona.cat/data/dataset/8319c2b1-4c21-4962-9acd-6db4c5ff1148/resource/60931e1f-9f62-4335-a4f5-95cd98eb9a19/download'},\n",
      " {'name': '2023_06_Juny_TRAMS_TRAMS.csv',\n",
      "  'url': 'https://opendata-ajuntament.barcelona.cat/data/dataset/8319c2b1-4c21-4962-9acd-6db4c5ff1148/resource/97145919-c094-4caf-8da1-b50be2799c51/download'},\n",
      " {'name': '2023_07_Juliol_TRAMS_TRAMS.csv',\n",
      "  'url': 'https://opendata-ajuntament.barcelona.cat/data/dataset/8319c2b1-4c21-4962-9acd-6db4c5ff1148/resource/59858620-276b-424a-9c59-46ff7de12fa9/download'},\n",
      " {'name': '2023_08_Agost_TRAMS_TRAMS.csv',\n",
      "  'url': 'https://opendata-ajuntament.barcelona.cat/data/dataset/8319c2b1-4c21-4962-9acd-6db4c5ff1148/resource/1668fe0a-0858-4a4b-969f-532e06df974a/download'},\n",
      " {'name': '2023_09_Setembre_TRAMS_TRAMS.csv',\n",
      "  'url': 'https://opendata-ajuntament.barcelona.cat/data/dataset/8319c2b1-4c21-4962-9acd-6db4c5ff1148/resource/d8794c96-00df-447a-9787-1fda970b21a5/download'},\n",
      " {'name': '2023_11_Novembre_TRAMS_TRAMS.csv',\n",
      "  'url': 'https://opendata-ajuntament.barcelona.cat/data/dataset/8319c2b1-4c21-4962-9acd-6db4c5ff1148/resource/2c526086-2b32-4bc8-9e15-d8e6a42131b4/download'},\n",
      " {'name': '2023_12_Desembre_TRAMS_TRAMS.csv',\n",
      "  'url': 'https://opendata-ajuntament.barcelona.cat/data/dataset/8319c2b1-4c21-4962-9acd-6db4c5ff1148/resource/fc904fbe-9a24-48ec-94b4-80804261b04a/download'},\n",
      " {'name': '2022_01_Gener_TRAMS_TRAMS.csv',\n",
      "  'url': 'https://opendata-ajuntament.barcelona.cat/data/dataset/8319c2b1-4c21-4962-9acd-6db4c5ff1148/resource/871dbaa9-e859-446b-80cc-29ab761a65cc/download'},\n",
      " {'name': '2022_02_Febrer_TRAMS_TRAMS.csv',\n",
      "  'url': 'https://opendata-ajuntament.barcelona.cat/data/dataset/8319c2b1-4c21-4962-9acd-6db4c5ff1148/resource/8522f4a2-5fe0-4c85-ace4-9595355cac9c/download'},\n",
      " {'name': '2022_03_Marc_TRAMS_TRAMS.csv',\n",
      "  'url': 'https://opendata-ajuntament.barcelona.cat/data/dataset/8319c2b1-4c21-4962-9acd-6db4c5ff1148/resource/609d7d65-6f67-4bed-8e51-da4b4c37bab5/download'},\n",
      " {'name': '2022_04_Abril_TRAMS_TRAMS.csv',\n",
      "  'url': 'https://opendata-ajuntament.barcelona.cat/data/dataset/8319c2b1-4c21-4962-9acd-6db4c5ff1148/resource/731147b1-6102-4b31-9138-0a5b9e1b4685/download'},\n",
      " {'name': '2022_05_Maig_TRAMS_TRAMS.csv',\n",
      "  'url': 'https://opendata-ajuntament.barcelona.cat/data/dataset/8319c2b1-4c21-4962-9acd-6db4c5ff1148/resource/27aad5e4-8853-4edc-be01-2dcf4df75a41/download'},\n",
      " {'name': '2022_06_Juny_TRAMS_TRAMS.csv',\n",
      "  'url': 'https://opendata-ajuntament.barcelona.cat/data/dataset/8319c2b1-4c21-4962-9acd-6db4c5ff1148/resource/7d486230-1767-471c-ba52-1f539f0f43b8/download'},\n",
      " {'name': '2022_07_Juliol_TRAMS_TRAMS.csv',\n",
      "  'url': 'https://opendata-ajuntament.barcelona.cat/data/dataset/8319c2b1-4c21-4962-9acd-6db4c5ff1148/resource/cbfdde25-42dd-49ec-afa8-d1b93c384f1c/download'},\n",
      " {'name': '2022_08_Agost_TRAMS_TRAMS.csv',\n",
      "  'url': 'https://opendata-ajuntament.barcelona.cat/data/dataset/8319c2b1-4c21-4962-9acd-6db4c5ff1148/resource/a3dfde4b-f5c0-4dc5-ac71-bbd87450c12d/download'},\n",
      " {'name': '2022_09_Setembre_TRAMS_TRAMS.csv',\n",
      "  'url': 'https://opendata-ajuntament.barcelona.cat/data/dataset/8319c2b1-4c21-4962-9acd-6db4c5ff1148/resource/342eda94-ce44-4fe7-820f-1be4ebecf6e2/download'},\n",
      " {'name': '2022_10_Octubre_TRAMS_TRAMS.csv',\n",
      "  'url': 'https://opendata-ajuntament.barcelona.cat/data/dataset/8319c2b1-4c21-4962-9acd-6db4c5ff1148/resource/3f93d121-0376-4e6f-aceb-9d24b95ba959/download'},\n",
      " {'name': '2022_11_Novembre_TRAMS_TRAMS.csv',\n",
      "  'url': 'https://opendata-ajuntament.barcelona.cat/data/dataset/8319c2b1-4c21-4962-9acd-6db4c5ff1148/resource/3925868f-998a-4401-a54f-2921c152d23e/download'},\n",
      " {'name': '2022_12_Desembre_TRAMS_TRAMS.csv',\n",
      "  'url': 'https://opendata-ajuntament.barcelona.cat/data/dataset/8319c2b1-4c21-4962-9acd-6db4c5ff1148/resource/a6a33715-dc82-45b4-ac36-168eb232a95e/download'},\n",
      " {'name': '2021_01_Gener_TRAMS_TRAMS.csv',\n",
      "  'url': 'https://opendata-ajuntament.barcelona.cat/data/dataset/8319c2b1-4c21-4962-9acd-6db4c5ff1148/resource/9dd91021-50eb-49f6-b4ba-3ef1d6c08382/download'},\n",
      " {'name': '2021_02_Febrer_TRAMS_TRAMS.csv',\n",
      "  'url': 'https://opendata-ajuntament.barcelona.cat/data/dataset/8319c2b1-4c21-4962-9acd-6db4c5ff1148/resource/0208cbc0-84d9-4283-9cc7-e6ed0342b714/download'},\n",
      " {'name': '2021_03_Marc_TRAMS_TRAMS.csv',\n",
      "  'url': 'https://opendata-ajuntament.barcelona.cat/data/dataset/8319c2b1-4c21-4962-9acd-6db4c5ff1148/resource/01d5ba35-4586-4ee1-af88-ac0b69a3a944/download'},\n",
      " {'name': '2021_04_Abril_TRAMS_TRAMS.csv',\n",
      "  'url': 'https://opendata-ajuntament.barcelona.cat/data/dataset/8319c2b1-4c21-4962-9acd-6db4c5ff1148/resource/639377de-c16b-4037-9691-9b55ce074e5c/download'},\n",
      " {'name': '2021_05_Maig_TRAMS_TRAMS.csv',\n",
      "  'url': 'https://opendata-ajuntament.barcelona.cat/data/dataset/8319c2b1-4c21-4962-9acd-6db4c5ff1148/resource/f9fb5a3e-0a4e-41c4-83bd-18df1027b91c/download'},\n",
      " {'name': '2021_06_Juny_TRAMS_TRAMS.csv',\n",
      "  'url': 'https://opendata-ajuntament.barcelona.cat/data/dataset/8319c2b1-4c21-4962-9acd-6db4c5ff1148/resource/0299771f-e80f-424f-b7da-8f3e6557f6d4/download'},\n",
      " {'name': '2021_07_Juliol_TRAMS_TRAMS.csv',\n",
      "  'url': 'https://opendata-ajuntament.barcelona.cat/data/dataset/8319c2b1-4c21-4962-9acd-6db4c5ff1148/resource/8bead630-ed4a-429d-b0ad-e2f6136b7734/download'},\n",
      " {'name': '2021_08_Agost_TRAMS_TRAMS.csv',\n",
      "  'url': 'https://opendata-ajuntament.barcelona.cat/data/dataset/8319c2b1-4c21-4962-9acd-6db4c5ff1148/resource/d40ef0e8-9bdc-44d6-a1c7-e16d881a84c9/download'},\n",
      " {'name': '2021_09_Setembre_TRAMS_TRAMS.csv',\n",
      "  'url': 'https://opendata-ajuntament.barcelona.cat/data/dataset/8319c2b1-4c21-4962-9acd-6db4c5ff1148/resource/bad2ec9f-fca5-47d5-91ca-f81ced51ecd9/download'},\n",
      " {'name': '2021_10_Octubre_TRAMS_TRAMS.csv',\n",
      "  'url': 'https://opendata-ajuntament.barcelona.cat/data/dataset/8319c2b1-4c21-4962-9acd-6db4c5ff1148/resource/ea65c284-5879-4291-ad65-c57879cfa099/download'},\n",
      " {'name': '2021_11_Novembre_TRAMS_TRAMS.csv',\n",
      "  'url': 'https://opendata-ajuntament.barcelona.cat/data/dataset/8319c2b1-4c21-4962-9acd-6db4c5ff1148/resource/c403d0ad-b94e-4e69-8c8c-cb922a3937d7/download'},\n",
      " {'name': '2021_12_Desembre_TRAMS_TRAMS.csv',\n",
      "  'url': 'https://opendata-ajuntament.barcelona.cat/data/dataset/8319c2b1-4c21-4962-9acd-6db4c5ff1148/resource/c7ae1f3c-719f-481c-9f26-0281a77b6df3/download'}]\n"
     ]
    }
   ],
   "source": [
    "# Hacemos una review de lo que tenemos para descargar\n",
    "from pprint import pprint\n",
    "pprint(downloads)"
   ]
  },
  {
   "cell_type": "code",
   "execution_count": null,
   "id": "79b5caf5",
   "metadata": {},
   "outputs": [],
   "source": [
    "# Descargar todos los archivos que queremos\n",
    "for file_url in downloads:\n",
    "    # Descargar archivo\n",
    "    file = requests.get(file_url[\"url\"])\n",
    "    # Gravar archivo\n",
    "    with open(\"./csv/\" + file_url[\"name\"], \"wb\") as f:\n",
    "        f.write(file.content)\n",
    "    # Damos un respiro largo a la API para que no nos haga throttling\n",
    "    time.sleep(10)\n",
    "    "
   ]
  },
  {
   "cell_type": "markdown",
   "id": "b6b88ea3",
   "metadata": {},
   "source": [
    "# Carga de los ficheros en una bbdd sqlite\n",
    "\n",
    "Hay bastantes ficheros csv en el repostiorio si hay muchas combinaciones de archivos en las consultas PowerQuery se hace pesado la cantidad de consultas auxiliares que se generan. Con el objetivo de reducir-las combinamos los datos de todos los CSV en una tabla en una base de datos SQLite y así también experimentamos con conectores ODBC."
   ]
  },
  {
   "cell_type": "code",
   "execution_count": 1,
   "id": "44ca068b",
   "metadata": {},
   "outputs": [],
   "source": [
    "import os\n",
    "from pathlib import Path\n",
    "import sqlite3\n",
    "import pandas as pd"
   ]
  },
  {
   "cell_type": "code",
   "execution_count": 2,
   "id": "704c96dd",
   "metadata": {},
   "outputs": [],
   "source": [
    "# Listamos archivos CSV que hemos descargado en la carpeta ./csv, ponemos filtro por si acaba algun documento extra allí\n",
    "csv_files = [file for file in os.listdir(\"./csv\") if file.lower().endswith(\".csv\")]\n",
    "csv_paths = [ Path(os.getcwd()) / \"csv\" / file for file in csv_files]"
   ]
  },
  {
   "cell_type": "code",
   "execution_count": 3,
   "id": "be1c5aa0",
   "metadata": {},
   "outputs": [],
   "source": [
    "# Definimos data-types de las columnas. Todas a texto, el trabajo lo queremos hacer en PowerQuery.\n",
    "dtypes ={\n",
    "    \"idTram\": \"str\",\n",
    "    \"data\": \"str\",\n",
    "    \"estatActual\": \"str\",\n",
    "    \"estatPrevist\": \"str\"\n",
    "}"
   ]
  },
  {
   "cell_type": "code",
   "execution_count": null,
   "id": "bf93d747",
   "metadata": {},
   "outputs": [],
   "source": [
    "# Instanciamos conexión a una bbdd sqlite\n",
    "connection = sqlite3.connect(\"./transito.db\")"
   ]
  },
  {
   "cell_type": "code",
   "execution_count": null,
   "id": "0b1d7c67",
   "metadata": {},
   "outputs": [
    {
     "data": {
      "text/plain": [
       "<sqlite3.Cursor at 0x1a4ac51e5c0>"
      ]
     },
     "execution_count": 5,
     "metadata": {},
     "output_type": "execute_result"
    }
   ],
   "source": [
    "# Abrimos un cursor para crear la tabla que queremos en la bbdd\n",
    "c = connection.cursor()"
   ]
  },
  {
   "cell_type": "code",
   "execution_count": 24,
   "id": "7d8f6cac",
   "metadata": {},
   "outputs": [
    {
     "data": {
      "text/plain": [
       "<sqlite3.Cursor at 0x1a4ac51e5c0>"
      ]
     },
     "execution_count": 24,
     "metadata": {},
     "output_type": "execute_result"
    }
   ],
   "source": [
    "# Si estamos en una bbdd con la tabla que ya existe la eliminamos\n",
    "c.execute(\"DROP TABLE IF EXISTS transito;\")\n",
    "# Creamos la tabla con la estructura que necesitamos para los csv\n",
    "c.execute(\"\"\"\n",
    "    CREATE TABLE IF NOT EXISTS transito (\n",
    "        idTram       TEXT DEFAULT NULL,\n",
    "        data         TEXT DEFAULT NULL,\n",
    "        estatActual  TEXT DEFAULT NULL,\n",
    "        estatPrevist TEXT DEFAULT NULL\n",
    "    );\n",
    "\"\"\")"
   ]
  },
  {
   "cell_type": "code",
   "execution_count": 25,
   "id": "08910af7",
   "metadata": {},
   "outputs": [
    {
     "name": "stdout",
     "output_type": "stream",
     "text": [
      "Importando c:\\Users\\Miki\\Documents-Local\\b0475-FundamentosBusinessIntelligence\\datasets\\transito\\csv\\2021_01_Gener_TRAMS_TRAMS.csv a la base de datos\n",
      "Importado c:\\Users\\Miki\\Documents-Local\\b0475-FundamentosBusinessIntelligence\\datasets\\transito\\csv\\2021_01_Gener_TRAMS_TRAMS.csv a la base de datos\n",
      "Importando c:\\Users\\Miki\\Documents-Local\\b0475-FundamentosBusinessIntelligence\\datasets\\transito\\csv\\2021_02_Febrer_TRAMS_TRAMS.csv a la base de datos\n",
      "Importado c:\\Users\\Miki\\Documents-Local\\b0475-FundamentosBusinessIntelligence\\datasets\\transito\\csv\\2021_02_Febrer_TRAMS_TRAMS.csv a la base de datos\n",
      "Importando c:\\Users\\Miki\\Documents-Local\\b0475-FundamentosBusinessIntelligence\\datasets\\transito\\csv\\2021_03_Marc_TRAMS_TRAMS.csv a la base de datos\n",
      "Importado c:\\Users\\Miki\\Documents-Local\\b0475-FundamentosBusinessIntelligence\\datasets\\transito\\csv\\2021_03_Marc_TRAMS_TRAMS.csv a la base de datos\n",
      "Importando c:\\Users\\Miki\\Documents-Local\\b0475-FundamentosBusinessIntelligence\\datasets\\transito\\csv\\2021_04_Abril_TRAMS_TRAMS.csv a la base de datos\n",
      "Importado c:\\Users\\Miki\\Documents-Local\\b0475-FundamentosBusinessIntelligence\\datasets\\transito\\csv\\2021_04_Abril_TRAMS_TRAMS.csv a la base de datos\n",
      "Importando c:\\Users\\Miki\\Documents-Local\\b0475-FundamentosBusinessIntelligence\\datasets\\transito\\csv\\2021_05_Maig_TRAMS_TRAMS.csv a la base de datos\n",
      "Importado c:\\Users\\Miki\\Documents-Local\\b0475-FundamentosBusinessIntelligence\\datasets\\transito\\csv\\2021_05_Maig_TRAMS_TRAMS.csv a la base de datos\n",
      "Importando c:\\Users\\Miki\\Documents-Local\\b0475-FundamentosBusinessIntelligence\\datasets\\transito\\csv\\2021_06_Juny_TRAMS_TRAMS.csv a la base de datos\n",
      "Importado c:\\Users\\Miki\\Documents-Local\\b0475-FundamentosBusinessIntelligence\\datasets\\transito\\csv\\2021_06_Juny_TRAMS_TRAMS.csv a la base de datos\n",
      "Importando c:\\Users\\Miki\\Documents-Local\\b0475-FundamentosBusinessIntelligence\\datasets\\transito\\csv\\2021_07_Juliol_TRAMS_TRAMS.csv a la base de datos\n",
      "Importado c:\\Users\\Miki\\Documents-Local\\b0475-FundamentosBusinessIntelligence\\datasets\\transito\\csv\\2021_07_Juliol_TRAMS_TRAMS.csv a la base de datos\n",
      "Importando c:\\Users\\Miki\\Documents-Local\\b0475-FundamentosBusinessIntelligence\\datasets\\transito\\csv\\2021_08_Agost_TRAMS_TRAMS.csv a la base de datos\n",
      "Importado c:\\Users\\Miki\\Documents-Local\\b0475-FundamentosBusinessIntelligence\\datasets\\transito\\csv\\2021_08_Agost_TRAMS_TRAMS.csv a la base de datos\n",
      "Importando c:\\Users\\Miki\\Documents-Local\\b0475-FundamentosBusinessIntelligence\\datasets\\transito\\csv\\2021_09_Setembre_TRAMS_TRAMS.csv a la base de datos\n",
      "Importado c:\\Users\\Miki\\Documents-Local\\b0475-FundamentosBusinessIntelligence\\datasets\\transito\\csv\\2021_09_Setembre_TRAMS_TRAMS.csv a la base de datos\n",
      "Importando c:\\Users\\Miki\\Documents-Local\\b0475-FundamentosBusinessIntelligence\\datasets\\transito\\csv\\2021_10_Octubre_TRAMS_TRAMS.csv a la base de datos\n",
      "Importado c:\\Users\\Miki\\Documents-Local\\b0475-FundamentosBusinessIntelligence\\datasets\\transito\\csv\\2021_10_Octubre_TRAMS_TRAMS.csv a la base de datos\n",
      "Importando c:\\Users\\Miki\\Documents-Local\\b0475-FundamentosBusinessIntelligence\\datasets\\transito\\csv\\2021_11_Novembre_TRAMS_TRAMS.csv a la base de datos\n",
      "Importado c:\\Users\\Miki\\Documents-Local\\b0475-FundamentosBusinessIntelligence\\datasets\\transito\\csv\\2021_11_Novembre_TRAMS_TRAMS.csv a la base de datos\n",
      "Importando c:\\Users\\Miki\\Documents-Local\\b0475-FundamentosBusinessIntelligence\\datasets\\transito\\csv\\2021_12_Desembre_TRAMS_TRAMS.csv a la base de datos\n",
      "Importado c:\\Users\\Miki\\Documents-Local\\b0475-FundamentosBusinessIntelligence\\datasets\\transito\\csv\\2021_12_Desembre_TRAMS_TRAMS.csv a la base de datos\n",
      "Importando c:\\Users\\Miki\\Documents-Local\\b0475-FundamentosBusinessIntelligence\\datasets\\transito\\csv\\2022_01_Gener_TRAMS_TRAMS.csv a la base de datos\n",
      "Importado c:\\Users\\Miki\\Documents-Local\\b0475-FundamentosBusinessIntelligence\\datasets\\transito\\csv\\2022_01_Gener_TRAMS_TRAMS.csv a la base de datos\n",
      "Importando c:\\Users\\Miki\\Documents-Local\\b0475-FundamentosBusinessIntelligence\\datasets\\transito\\csv\\2022_02_Febrer_TRAMS_TRAMS.csv a la base de datos\n",
      "Importado c:\\Users\\Miki\\Documents-Local\\b0475-FundamentosBusinessIntelligence\\datasets\\transito\\csv\\2022_02_Febrer_TRAMS_TRAMS.csv a la base de datos\n",
      "Importando c:\\Users\\Miki\\Documents-Local\\b0475-FundamentosBusinessIntelligence\\datasets\\transito\\csv\\2022_03_Marc_TRAMS_TRAMS.csv a la base de datos\n",
      "Importado c:\\Users\\Miki\\Documents-Local\\b0475-FundamentosBusinessIntelligence\\datasets\\transito\\csv\\2022_03_Marc_TRAMS_TRAMS.csv a la base de datos\n",
      "Importando c:\\Users\\Miki\\Documents-Local\\b0475-FundamentosBusinessIntelligence\\datasets\\transito\\csv\\2022_04_Abril_TRAMS_TRAMS.csv a la base de datos\n",
      "Importado c:\\Users\\Miki\\Documents-Local\\b0475-FundamentosBusinessIntelligence\\datasets\\transito\\csv\\2022_04_Abril_TRAMS_TRAMS.csv a la base de datos\n",
      "Importando c:\\Users\\Miki\\Documents-Local\\b0475-FundamentosBusinessIntelligence\\datasets\\transito\\csv\\2022_05_Maig_TRAMS_TRAMS.csv a la base de datos\n",
      "Importado c:\\Users\\Miki\\Documents-Local\\b0475-FundamentosBusinessIntelligence\\datasets\\transito\\csv\\2022_05_Maig_TRAMS_TRAMS.csv a la base de datos\n",
      "Importando c:\\Users\\Miki\\Documents-Local\\b0475-FundamentosBusinessIntelligence\\datasets\\transito\\csv\\2022_06_Juny_TRAMS_TRAMS.csv a la base de datos\n",
      "Importado c:\\Users\\Miki\\Documents-Local\\b0475-FundamentosBusinessIntelligence\\datasets\\transito\\csv\\2022_06_Juny_TRAMS_TRAMS.csv a la base de datos\n",
      "Importando c:\\Users\\Miki\\Documents-Local\\b0475-FundamentosBusinessIntelligence\\datasets\\transito\\csv\\2022_07_Juliol_TRAMS_TRAMS.csv a la base de datos\n",
      "Importado c:\\Users\\Miki\\Documents-Local\\b0475-FundamentosBusinessIntelligence\\datasets\\transito\\csv\\2022_07_Juliol_TRAMS_TRAMS.csv a la base de datos\n",
      "Importando c:\\Users\\Miki\\Documents-Local\\b0475-FundamentosBusinessIntelligence\\datasets\\transito\\csv\\2022_08_Agost_TRAMS_TRAMS.csv a la base de datos\n",
      "Importado c:\\Users\\Miki\\Documents-Local\\b0475-FundamentosBusinessIntelligence\\datasets\\transito\\csv\\2022_08_Agost_TRAMS_TRAMS.csv a la base de datos\n",
      "Importando c:\\Users\\Miki\\Documents-Local\\b0475-FundamentosBusinessIntelligence\\datasets\\transito\\csv\\2022_09_Setembre_TRAMS_TRAMS.csv a la base de datos\n",
      "Importado c:\\Users\\Miki\\Documents-Local\\b0475-FundamentosBusinessIntelligence\\datasets\\transito\\csv\\2022_09_Setembre_TRAMS_TRAMS.csv a la base de datos\n",
      "Importando c:\\Users\\Miki\\Documents-Local\\b0475-FundamentosBusinessIntelligence\\datasets\\transito\\csv\\2022_10_Octubre_TRAMS_TRAMS.csv a la base de datos\n",
      "Importado c:\\Users\\Miki\\Documents-Local\\b0475-FundamentosBusinessIntelligence\\datasets\\transito\\csv\\2022_10_Octubre_TRAMS_TRAMS.csv a la base de datos\n",
      "Importando c:\\Users\\Miki\\Documents-Local\\b0475-FundamentosBusinessIntelligence\\datasets\\transito\\csv\\2022_11_Novembre_TRAMS_TRAMS.csv a la base de datos\n",
      "Importado c:\\Users\\Miki\\Documents-Local\\b0475-FundamentosBusinessIntelligence\\datasets\\transito\\csv\\2022_11_Novembre_TRAMS_TRAMS.csv a la base de datos\n",
      "Importando c:\\Users\\Miki\\Documents-Local\\b0475-FundamentosBusinessIntelligence\\datasets\\transito\\csv\\2022_12_Desembre_TRAMS_TRAMS.csv a la base de datos\n",
      "Importado c:\\Users\\Miki\\Documents-Local\\b0475-FundamentosBusinessIntelligence\\datasets\\transito\\csv\\2022_12_Desembre_TRAMS_TRAMS.csv a la base de datos\n",
      "Importando c:\\Users\\Miki\\Documents-Local\\b0475-FundamentosBusinessIntelligence\\datasets\\transito\\csv\\2023_01_Gener_TRAMS_TRAMS.csv a la base de datos\n",
      "Importado c:\\Users\\Miki\\Documents-Local\\b0475-FundamentosBusinessIntelligence\\datasets\\transito\\csv\\2023_01_Gener_TRAMS_TRAMS.csv a la base de datos\n",
      "Importando c:\\Users\\Miki\\Documents-Local\\b0475-FundamentosBusinessIntelligence\\datasets\\transito\\csv\\2023_02_Febrer_TRAMS_TRAMS.csv a la base de datos\n",
      "Importado c:\\Users\\Miki\\Documents-Local\\b0475-FundamentosBusinessIntelligence\\datasets\\transito\\csv\\2023_02_Febrer_TRAMS_TRAMS.csv a la base de datos\n",
      "Importando c:\\Users\\Miki\\Documents-Local\\b0475-FundamentosBusinessIntelligence\\datasets\\transito\\csv\\2023_03_Marc_TRAMS_TRAMS.csv a la base de datos\n",
      "Importado c:\\Users\\Miki\\Documents-Local\\b0475-FundamentosBusinessIntelligence\\datasets\\transito\\csv\\2023_03_Marc_TRAMS_TRAMS.csv a la base de datos\n",
      "Importando c:\\Users\\Miki\\Documents-Local\\b0475-FundamentosBusinessIntelligence\\datasets\\transito\\csv\\2023_04_Abril_TRAMS_TRAMS.csv a la base de datos\n",
      "Importado c:\\Users\\Miki\\Documents-Local\\b0475-FundamentosBusinessIntelligence\\datasets\\transito\\csv\\2023_04_Abril_TRAMS_TRAMS.csv a la base de datos\n",
      "Importando c:\\Users\\Miki\\Documents-Local\\b0475-FundamentosBusinessIntelligence\\datasets\\transito\\csv\\2023_05_Maig_TRAMS_TRAMS.csv a la base de datos\n",
      "Importado c:\\Users\\Miki\\Documents-Local\\b0475-FundamentosBusinessIntelligence\\datasets\\transito\\csv\\2023_05_Maig_TRAMS_TRAMS.csv a la base de datos\n",
      "Importando c:\\Users\\Miki\\Documents-Local\\b0475-FundamentosBusinessIntelligence\\datasets\\transito\\csv\\2023_06_Juny_TRAMS_TRAMS.csv a la base de datos\n",
      "Importado c:\\Users\\Miki\\Documents-Local\\b0475-FundamentosBusinessIntelligence\\datasets\\transito\\csv\\2023_06_Juny_TRAMS_TRAMS.csv a la base de datos\n",
      "Importando c:\\Users\\Miki\\Documents-Local\\b0475-FundamentosBusinessIntelligence\\datasets\\transito\\csv\\2023_07_Juliol_TRAMS_TRAMS.csv a la base de datos\n",
      "Importado c:\\Users\\Miki\\Documents-Local\\b0475-FundamentosBusinessIntelligence\\datasets\\transito\\csv\\2023_07_Juliol_TRAMS_TRAMS.csv a la base de datos\n",
      "Importando c:\\Users\\Miki\\Documents-Local\\b0475-FundamentosBusinessIntelligence\\datasets\\transito\\csv\\2023_08_Agost_TRAMS_TRAMS.csv a la base de datos\n",
      "Importado c:\\Users\\Miki\\Documents-Local\\b0475-FundamentosBusinessIntelligence\\datasets\\transito\\csv\\2023_08_Agost_TRAMS_TRAMS.csv a la base de datos\n",
      "Importando c:\\Users\\Miki\\Documents-Local\\b0475-FundamentosBusinessIntelligence\\datasets\\transito\\csv\\2023_09_Setembre_TRAMS_TRAMS.csv a la base de datos\n",
      "Importado c:\\Users\\Miki\\Documents-Local\\b0475-FundamentosBusinessIntelligence\\datasets\\transito\\csv\\2023_09_Setembre_TRAMS_TRAMS.csv a la base de datos\n",
      "Importando c:\\Users\\Miki\\Documents-Local\\b0475-FundamentosBusinessIntelligence\\datasets\\transito\\csv\\2023_11_Novembre_TRAMS_TRAMS.csv a la base de datos\n",
      "Importado c:\\Users\\Miki\\Documents-Local\\b0475-FundamentosBusinessIntelligence\\datasets\\transito\\csv\\2023_11_Novembre_TRAMS_TRAMS.csv a la base de datos\n",
      "Importando c:\\Users\\Miki\\Documents-Local\\b0475-FundamentosBusinessIntelligence\\datasets\\transito\\csv\\2023_12_Desembre_TRAMS_TRAMS.csv a la base de datos\n",
      "Importado c:\\Users\\Miki\\Documents-Local\\b0475-FundamentosBusinessIntelligence\\datasets\\transito\\csv\\2023_12_Desembre_TRAMS_TRAMS.csv a la base de datos\n"
     ]
    }
   ],
   "source": [
    "# Cargar uno por uno los archivos CSV a la base de datos sqlite\n",
    "for csv in csv_paths:\n",
    "    df = pd.read_csv(csv, dtype = dtypes)\n",
    "    print(f\"Importando {csv} a la base de datos\")\n",
    "    df.to_sql(\"transito\", connection, if_exists= \"append\", index=None)\n",
    "    print(f\"Importado {csv} a la base de datos\")\n",
    "    "
   ]
  },
  {
   "cell_type": "code",
   "execution_count": 26,
   "id": "63b35a30",
   "metadata": {},
   "outputs": [],
   "source": [
    "# Cerramos conexiones para dejar bbdd en buen estado\n",
    "c.close()\n",
    "connection.close()"
   ]
  }
 ],
 "metadata": {
  "kernelspec": {
   "display_name": "powerbi",
   "language": "python",
   "name": "python3"
  },
  "language_info": {
   "codemirror_mode": {
    "name": "ipython",
    "version": 3
   },
   "file_extension": ".py",
   "mimetype": "text/x-python",
   "name": "python",
   "nbconvert_exporter": "python",
   "pygments_lexer": "ipython3",
   "version": "3.13.2"
  }
 },
 "nbformat": 4,
 "nbformat_minor": 5
}

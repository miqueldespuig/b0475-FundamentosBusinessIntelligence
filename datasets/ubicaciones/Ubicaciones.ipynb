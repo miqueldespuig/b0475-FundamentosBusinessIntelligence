{
 "cells": [
  {
   "cell_type": "markdown",
   "id": "82ade485",
   "metadata": {},
   "source": [
    "# Spatial-Join\n",
    "\n",
    "En este notebook exploramos la posibilidad de asignar cada instalación de monitorización de ruido del ayuntamiento de Barcelona a un tramo de tránsito mediante la técnica de Spatial-Join."
   ]
  },
  {
   "cell_type": "code",
   "execution_count": 106,
   "id": "3f5920bd",
   "metadata": {},
   "outputs": [],
   "source": [
    "import os\n",
    "from pathlib import Path\n",
    "import pandas as pd\n",
    "import geopandas as gpd\n",
    "from shapely.geometry import Point, LineString"
   ]
  },
  {
   "cell_type": "markdown",
   "id": "4b0e570a",
   "metadata": {},
   "source": [
    "## Fichero Instalaciones Monitorización de Ruido\n",
    "\n",
    "1. Importamos CSV como un dataframe de pandas\n",
    "1. Escoger columnas de latitud y longitud, crear serie de **puntos** de shapely\n",
    "1. Pandas dataframe + puntos para crear un geodataframe\n",
    "1. Especificar CRS (Coordinate Reference System) en el geodataframe"
   ]
  },
  {
   "cell_type": "code",
   "execution_count": 107,
   "id": "b2cb5d1e",
   "metadata": {},
   "outputs": [
    {
     "data": {
      "text/html": [
       "<div>\n",
       "<style scoped>\n",
       "    .dataframe tbody tr th:only-of-type {\n",
       "        vertical-align: middle;\n",
       "    }\n",
       "\n",
       "    .dataframe tbody tr th {\n",
       "        vertical-align: top;\n",
       "    }\n",
       "\n",
       "    .dataframe thead th {\n",
       "        text-align: right;\n",
       "    }\n",
       "</style>\n",
       "<table border=\"1\" class=\"dataframe\">\n",
       "  <thead>\n",
       "    <tr style=\"text-align: right;\">\n",
       "      <th></th>\n",
       "      <th>Id_Instal</th>\n",
       "      <th>Codi_Carrer</th>\n",
       "      <th>Tipus_Via</th>\n",
       "      <th>Nom_Carrer</th>\n",
       "      <th>Num_Carrer</th>\n",
       "      <th>Codi_Barri</th>\n",
       "      <th>Nom_Barri</th>\n",
       "      <th>Codi_Districte</th>\n",
       "      <th>Nom_Districte</th>\n",
       "      <th>Latitud</th>\n",
       "      <th>Longitud</th>\n",
       "      <th>ETRS89_X</th>\n",
       "      <th>ETRS89_Y</th>\n",
       "      <th>Data_Instalacio</th>\n",
       "      <th>Data_DesInstalacio</th>\n",
       "      <th>Font</th>\n",
       "    </tr>\n",
       "  </thead>\n",
       "  <tbody>\n",
       "    <tr>\n",
       "      <th>0</th>\n",
       "      <td>186</td>\n",
       "      <td>348408</td>\n",
       "      <td>C</td>\n",
       "      <td>Tuset</td>\n",
       "      <td>8</td>\n",
       "      <td>26</td>\n",
       "      <td>Galvany</td>\n",
       "      <td>5</td>\n",
       "      <td>Sarrià-Sant Gervasi</td>\n",
       "      <td>41.395450</td>\n",
       "      <td>2.152753</td>\n",
       "      <td>429172.441</td>\n",
       "      <td>4583003.592</td>\n",
       "      <td>29/01/2014</td>\n",
       "      <td>16/01/2015</td>\n",
       "      <td>OCI</td>\n",
       "    </tr>\n",
       "    <tr>\n",
       "      <th>1</th>\n",
       "      <td>187</td>\n",
       "      <td>348408</td>\n",
       "      <td>C</td>\n",
       "      <td>Tuset</td>\n",
       "      <td>17</td>\n",
       "      <td>26</td>\n",
       "      <td>Galvany</td>\n",
       "      <td>5</td>\n",
       "      <td>Sarrià-Sant Gervasi</td>\n",
       "      <td>41.396156</td>\n",
       "      <td>2.151564</td>\n",
       "      <td>429073.823</td>\n",
       "      <td>4583082.946</td>\n",
       "      <td>29/01/2014</td>\n",
       "      <td>16/01/2015</td>\n",
       "      <td>OCI</td>\n",
       "    </tr>\n",
       "    <tr>\n",
       "      <th>2</th>\n",
       "      <td>206</td>\n",
       "      <td>112208</td>\n",
       "      <td>C</td>\n",
       "      <td>Escudellers</td>\n",
       "      <td>53</td>\n",
       "      <td>2</td>\n",
       "      <td>el Barri Gòtic</td>\n",
       "      <td>1</td>\n",
       "      <td>Ciutat Vella</td>\n",
       "      <td>41.380127</td>\n",
       "      <td>2.176924</td>\n",
       "      <td>431177.000</td>\n",
       "      <td>4581283.000</td>\n",
       "      <td>05/02/2014</td>\n",
       "      <td>30/01/2015</td>\n",
       "      <td>OCI</td>\n",
       "    </tr>\n",
       "  </tbody>\n",
       "</table>\n",
       "</div>"
      ],
      "text/plain": [
       "   Id_Instal  Codi_Carrer Tipus_Via   Nom_Carrer Num_Carrer  Codi_Barri  \\\n",
       "0        186       348408         C        Tuset          8          26   \n",
       "1        187       348408         C        Tuset         17          26   \n",
       "2        206       112208         C  Escudellers         53           2   \n",
       "\n",
       "        Nom_Barri  Codi_Districte        Nom_Districte    Latitud  Longitud  \\\n",
       "0         Galvany               5  Sarrià-Sant Gervasi  41.395450  2.152753   \n",
       "1         Galvany               5  Sarrià-Sant Gervasi  41.396156  2.151564   \n",
       "2  el Barri Gòtic               1         Ciutat Vella  41.380127  2.176924   \n",
       "\n",
       "     ETRS89_X     ETRS89_Y Data_Instalacio Data_DesInstalacio Font  \n",
       "0  429172.441  4583003.592      29/01/2014         16/01/2015  OCI  \n",
       "1  429073.823  4583082.946      29/01/2014         16/01/2015  OCI  \n",
       "2  431177.000  4581283.000      05/02/2014         30/01/2015  OCI  "
      ]
     },
     "execution_count": 107,
     "metadata": {},
     "output_type": "execute_result"
    }
   ],
   "source": [
    "# Importamos CSV como dataframe de pandas\n",
    "instalaciones_filepath = Path(os.getcwd()) / \"csv\" / \"XarxaSoroll_EquipsMonitor_Instal.csv\"\n",
    "df_instalaciones = pd.read_csv(instalaciones_filepath)\n",
    "df_instalaciones.head(3)"
   ]
  },
  {
   "cell_type": "code",
   "execution_count": 108,
   "id": "124ef131",
   "metadata": {},
   "outputs": [
    {
     "data": {
      "text/html": [
       "<div>\n",
       "<style scoped>\n",
       "    .dataframe tbody tr th:only-of-type {\n",
       "        vertical-align: middle;\n",
       "    }\n",
       "\n",
       "    .dataframe tbody tr th {\n",
       "        vertical-align: top;\n",
       "    }\n",
       "\n",
       "    .dataframe thead th {\n",
       "        text-align: right;\n",
       "    }\n",
       "</style>\n",
       "<table border=\"1\" class=\"dataframe\">\n",
       "  <thead>\n",
       "    <tr style=\"text-align: right;\">\n",
       "      <th></th>\n",
       "      <th>id_instal</th>\n",
       "      <th>codi_carrer</th>\n",
       "      <th>tipus_via</th>\n",
       "      <th>nom_carrer</th>\n",
       "      <th>num_carrer</th>\n",
       "      <th>codi_barri</th>\n",
       "      <th>nom_barri</th>\n",
       "      <th>codi_districte</th>\n",
       "      <th>nom_districte</th>\n",
       "      <th>latitud</th>\n",
       "      <th>longitud</th>\n",
       "      <th>etrs89_x</th>\n",
       "      <th>etrs89_y</th>\n",
       "      <th>data_instalacio</th>\n",
       "      <th>data_desinstalacio</th>\n",
       "      <th>font</th>\n",
       "    </tr>\n",
       "  </thead>\n",
       "  <tbody>\n",
       "    <tr>\n",
       "      <th>0</th>\n",
       "      <td>186</td>\n",
       "      <td>348408</td>\n",
       "      <td>C</td>\n",
       "      <td>Tuset</td>\n",
       "      <td>8</td>\n",
       "      <td>26</td>\n",
       "      <td>Galvany</td>\n",
       "      <td>5</td>\n",
       "      <td>Sarrià-Sant Gervasi</td>\n",
       "      <td>41.395450</td>\n",
       "      <td>2.152753</td>\n",
       "      <td>429172.441</td>\n",
       "      <td>4583003.592</td>\n",
       "      <td>29/01/2014</td>\n",
       "      <td>16/01/2015</td>\n",
       "      <td>OCI</td>\n",
       "    </tr>\n",
       "    <tr>\n",
       "      <th>1</th>\n",
       "      <td>187</td>\n",
       "      <td>348408</td>\n",
       "      <td>C</td>\n",
       "      <td>Tuset</td>\n",
       "      <td>17</td>\n",
       "      <td>26</td>\n",
       "      <td>Galvany</td>\n",
       "      <td>5</td>\n",
       "      <td>Sarrià-Sant Gervasi</td>\n",
       "      <td>41.396156</td>\n",
       "      <td>2.151564</td>\n",
       "      <td>429073.823</td>\n",
       "      <td>4583082.946</td>\n",
       "      <td>29/01/2014</td>\n",
       "      <td>16/01/2015</td>\n",
       "      <td>OCI</td>\n",
       "    </tr>\n",
       "    <tr>\n",
       "      <th>2</th>\n",
       "      <td>206</td>\n",
       "      <td>112208</td>\n",
       "      <td>C</td>\n",
       "      <td>Escudellers</td>\n",
       "      <td>53</td>\n",
       "      <td>2</td>\n",
       "      <td>el Barri Gòtic</td>\n",
       "      <td>1</td>\n",
       "      <td>Ciutat Vella</td>\n",
       "      <td>41.380127</td>\n",
       "      <td>2.176924</td>\n",
       "      <td>431177.000</td>\n",
       "      <td>4581283.000</td>\n",
       "      <td>05/02/2014</td>\n",
       "      <td>30/01/2015</td>\n",
       "      <td>OCI</td>\n",
       "    </tr>\n",
       "  </tbody>\n",
       "</table>\n",
       "</div>"
      ],
      "text/plain": [
       "   id_instal  codi_carrer tipus_via   nom_carrer num_carrer  codi_barri  \\\n",
       "0        186       348408         C        Tuset          8          26   \n",
       "1        187       348408         C        Tuset         17          26   \n",
       "2        206       112208         C  Escudellers         53           2   \n",
       "\n",
       "        nom_barri  codi_districte        nom_districte    latitud  longitud  \\\n",
       "0         Galvany               5  Sarrià-Sant Gervasi  41.395450  2.152753   \n",
       "1         Galvany               5  Sarrià-Sant Gervasi  41.396156  2.151564   \n",
       "2  el Barri Gòtic               1         Ciutat Vella  41.380127  2.176924   \n",
       "\n",
       "     etrs89_x     etrs89_y data_instalacio data_desinstalacio font  \n",
       "0  429172.441  4583003.592      29/01/2014         16/01/2015  OCI  \n",
       "1  429073.823  4583082.946      29/01/2014         16/01/2015  OCI  \n",
       "2  431177.000  4581283.000      05/02/2014         30/01/2015  OCI  "
      ]
     },
     "execution_count": 108,
     "metadata": {},
     "output_type": "execute_result"
    }
   ],
   "source": [
    "# Estandarizamos capitalización de las columnas por comodidad\n",
    "df_instalaciones.columns = [column.lower() for column in df_instalaciones.columns]\n",
    "df_instalaciones.head(3)"
   ]
  },
  {
   "cell_type": "code",
   "execution_count": 109,
   "id": "57ad77ac",
   "metadata": {},
   "outputs": [
    {
     "data": {
      "text/plain": [
       "0     POINT (2.152753 41.39545)\n",
       "1    POINT (2.151564 41.396156)\n",
       "2    POINT (2.176924 41.380127)\n",
       "dtype: object"
      ]
     },
     "execution_count": 109,
     "metadata": {},
     "output_type": "execute_result"
    }
   ],
   "source": [
    "# Generamos las geometrias de los puntos de las instalaciones\n",
    "puntos = df_instalaciones.apply(lambda row: Point(row[\"longitud\"],row[\"latitud\"]),axis=1)\n",
    "puntos.head(3)"
   ]
  },
  {
   "cell_type": "code",
   "execution_count": 110,
   "id": "faec194f",
   "metadata": {},
   "outputs": [
    {
     "data": {
      "text/html": [
       "<div>\n",
       "<style scoped>\n",
       "    .dataframe tbody tr th:only-of-type {\n",
       "        vertical-align: middle;\n",
       "    }\n",
       "\n",
       "    .dataframe tbody tr th {\n",
       "        vertical-align: top;\n",
       "    }\n",
       "\n",
       "    .dataframe thead th {\n",
       "        text-align: right;\n",
       "    }\n",
       "</style>\n",
       "<table border=\"1\" class=\"dataframe\">\n",
       "  <thead>\n",
       "    <tr style=\"text-align: right;\">\n",
       "      <th></th>\n",
       "      <th>id_instal</th>\n",
       "      <th>codi_carrer</th>\n",
       "      <th>tipus_via</th>\n",
       "      <th>nom_carrer</th>\n",
       "      <th>num_carrer</th>\n",
       "      <th>codi_barri</th>\n",
       "      <th>nom_barri</th>\n",
       "      <th>codi_districte</th>\n",
       "      <th>nom_districte</th>\n",
       "      <th>latitud</th>\n",
       "      <th>longitud</th>\n",
       "      <th>etrs89_x</th>\n",
       "      <th>etrs89_y</th>\n",
       "      <th>data_instalacio</th>\n",
       "      <th>data_desinstalacio</th>\n",
       "      <th>font</th>\n",
       "      <th>geometry</th>\n",
       "    </tr>\n",
       "  </thead>\n",
       "  <tbody>\n",
       "    <tr>\n",
       "      <th>0</th>\n",
       "      <td>186</td>\n",
       "      <td>348408</td>\n",
       "      <td>C</td>\n",
       "      <td>Tuset</td>\n",
       "      <td>8</td>\n",
       "      <td>26</td>\n",
       "      <td>Galvany</td>\n",
       "      <td>5</td>\n",
       "      <td>Sarrià-Sant Gervasi</td>\n",
       "      <td>41.395450</td>\n",
       "      <td>2.152753</td>\n",
       "      <td>429172.441</td>\n",
       "      <td>4583003.592</td>\n",
       "      <td>29/01/2014</td>\n",
       "      <td>16/01/2015</td>\n",
       "      <td>OCI</td>\n",
       "      <td>POINT (2.15275 41.39545)</td>\n",
       "    </tr>\n",
       "    <tr>\n",
       "      <th>1</th>\n",
       "      <td>187</td>\n",
       "      <td>348408</td>\n",
       "      <td>C</td>\n",
       "      <td>Tuset</td>\n",
       "      <td>17</td>\n",
       "      <td>26</td>\n",
       "      <td>Galvany</td>\n",
       "      <td>5</td>\n",
       "      <td>Sarrià-Sant Gervasi</td>\n",
       "      <td>41.396156</td>\n",
       "      <td>2.151564</td>\n",
       "      <td>429073.823</td>\n",
       "      <td>4583082.946</td>\n",
       "      <td>29/01/2014</td>\n",
       "      <td>16/01/2015</td>\n",
       "      <td>OCI</td>\n",
       "      <td>POINT (2.15156 41.39616)</td>\n",
       "    </tr>\n",
       "    <tr>\n",
       "      <th>2</th>\n",
       "      <td>206</td>\n",
       "      <td>112208</td>\n",
       "      <td>C</td>\n",
       "      <td>Escudellers</td>\n",
       "      <td>53</td>\n",
       "      <td>2</td>\n",
       "      <td>el Barri Gòtic</td>\n",
       "      <td>1</td>\n",
       "      <td>Ciutat Vella</td>\n",
       "      <td>41.380127</td>\n",
       "      <td>2.176924</td>\n",
       "      <td>431177.000</td>\n",
       "      <td>4581283.000</td>\n",
       "      <td>05/02/2014</td>\n",
       "      <td>30/01/2015</td>\n",
       "      <td>OCI</td>\n",
       "      <td>POINT (2.17692 41.38013)</td>\n",
       "    </tr>\n",
       "  </tbody>\n",
       "</table>\n",
       "</div>"
      ],
      "text/plain": [
       "   id_instal  codi_carrer tipus_via   nom_carrer num_carrer  codi_barri  \\\n",
       "0        186       348408         C        Tuset          8          26   \n",
       "1        187       348408         C        Tuset         17          26   \n",
       "2        206       112208         C  Escudellers         53           2   \n",
       "\n",
       "        nom_barri  codi_districte        nom_districte    latitud  longitud  \\\n",
       "0         Galvany               5  Sarrià-Sant Gervasi  41.395450  2.152753   \n",
       "1         Galvany               5  Sarrià-Sant Gervasi  41.396156  2.151564   \n",
       "2  el Barri Gòtic               1         Ciutat Vella  41.380127  2.176924   \n",
       "\n",
       "     etrs89_x     etrs89_y data_instalacio data_desinstalacio font  \\\n",
       "0  429172.441  4583003.592      29/01/2014         16/01/2015  OCI   \n",
       "1  429073.823  4583082.946      29/01/2014         16/01/2015  OCI   \n",
       "2  431177.000  4581283.000      05/02/2014         30/01/2015  OCI   \n",
       "\n",
       "                   geometry  \n",
       "0  POINT (2.15275 41.39545)  \n",
       "1  POINT (2.15156 41.39616)  \n",
       "2  POINT (2.17692 41.38013)  "
      ]
     },
     "execution_count": 110,
     "metadata": {},
     "output_type": "execute_result"
    }
   ],
   "source": [
    "# Creamos Geodataframe de geopandas indicando las geometrias que hemos calculado\n",
    "gdf_instalaciones = gpd.GeoDataFrame(df_instalaciones,geometry=puntos)\n",
    "# Asignamos sistema de referencia como longitud y latitud el código epsg:4326 és un estándard\n",
    "gdf_instalaciones.crs = \"epsg:4326\"\n",
    "gdf_instalaciones.head(3)"
   ]
  },
  {
   "cell_type": "code",
   "execution_count": 111,
   "id": "7edfe122",
   "metadata": {},
   "outputs": [
    {
     "data": {
      "text/plain": [
       "<Axes: >"
      ]
     },
     "execution_count": 111,
     "metadata": {},
     "output_type": "execute_result"
    },
    {
     "data": {
      "image/png": "[encoded data removed]",
      "text/plain": [
       "<Figure size 640x480 with 1 Axes>"
      ]
     },
     "metadata": {},
     "output_type": "display_data"
    }
   ],
   "source": [
    "# Visualizamos los puntos\n",
    "gdf_instalaciones.plot()"
   ]
  },
  {
   "cell_type": "markdown",
   "id": "2e0c6c13",
   "metadata": {},
   "source": [
    "## Fichero Tramos\n",
    "\n",
    "De manera similar al fichero de instalaciones de ruido\n",
    "\n",
    "1. Importamos CSV como un dataframe de pandas\n",
    "1. Escoger columnas de latitud y longitud, crear serie de **lineas** de shapely\n",
    "1. Pandas dataframe + puntos para crear un geodataframe\n",
    "1. Especificar CRS (Coordinate Reference System) en el geodataframe"
   ]
  },
  {
   "cell_type": "code",
   "execution_count": 112,
   "id": "7632c790",
   "metadata": {},
   "outputs": [
    {
     "data": {
      "text/html": [
       "<div>\n",
       "<style scoped>\n",
       "    .dataframe tbody tr th:only-of-type {\n",
       "        vertical-align: middle;\n",
       "    }\n",
       "\n",
       "    .dataframe tbody tr th {\n",
       "        vertical-align: top;\n",
       "    }\n",
       "\n",
       "    .dataframe thead th {\n",
       "        text-align: right;\n",
       "    }\n",
       "</style>\n",
       "<table border=\"1\" class=\"dataframe\">\n",
       "  <thead>\n",
       "    <tr style=\"text-align: right;\">\n",
       "      <th></th>\n",
       "      <th>Tram</th>\n",
       "      <th>Descripció</th>\n",
       "      <th>Coordenades</th>\n",
       "    </tr>\n",
       "  </thead>\n",
       "  <tbody>\n",
       "    <tr>\n",
       "      <th>0</th>\n",
       "      <td>1</td>\n",
       "      <td>Diagonal (Ronda de Dalt a Doctor Marañón)</td>\n",
       "      <td>2.11203535639414,41.3841912394771,2.1015028628...</td>\n",
       "    </tr>\n",
       "    <tr>\n",
       "      <th>1</th>\n",
       "      <td>2</td>\n",
       "      <td>Diagonal (Doctor Marañón a Ronda de Dalt)</td>\n",
       "      <td>2.111944376806616,41.38446666680338,2.10159408...</td>\n",
       "    </tr>\n",
       "    <tr>\n",
       "      <th>2</th>\n",
       "      <td>3</td>\n",
       "      <td>Diagonal (Doctor Marañón a Pl. Pius XII)</td>\n",
       "      <td>2.112093343037027,41.38422850920645,2.12264979...</td>\n",
       "    </tr>\n",
       "  </tbody>\n",
       "</table>\n",
       "</div>"
      ],
      "text/plain": [
       "   Tram                                 Descripció  \\\n",
       "0     1  Diagonal (Ronda de Dalt a Doctor Marañón)   \n",
       "1     2  Diagonal (Doctor Marañón a Ronda de Dalt)   \n",
       "2     3   Diagonal (Doctor Marañón a Pl. Pius XII)   \n",
       "\n",
       "                                         Coordenades  \n",
       "0  2.11203535639414,41.3841912394771,2.1015028628...  \n",
       "1  2.111944376806616,41.38446666680338,2.10159408...  \n",
       "2  2.112093343037027,41.38422850920645,2.12264979...  "
      ]
     },
     "execution_count": 112,
     "metadata": {},
     "output_type": "execute_result"
    }
   ],
   "source": [
    "tramos_filepath = Path(os.getcwd()) / \"csv\" / \"transit_relacio_trams.csv\"\n",
    "df_tramos = pd.read_csv(tramos_filepath)\n",
    "df_tramos.head(3)"
   ]
  },
  {
   "cell_type": "code",
   "execution_count": 113,
   "id": "0c70d9f1",
   "metadata": {},
   "outputs": [
    {
     "data": {
      "text/html": [
       "<div>\n",
       "<style scoped>\n",
       "    .dataframe tbody tr th:only-of-type {\n",
       "        vertical-align: middle;\n",
       "    }\n",
       "\n",
       "    .dataframe tbody tr th {\n",
       "        vertical-align: top;\n",
       "    }\n",
       "\n",
       "    .dataframe thead th {\n",
       "        text-align: right;\n",
       "    }\n",
       "</style>\n",
       "<table border=\"1\" class=\"dataframe\">\n",
       "  <thead>\n",
       "    <tr style=\"text-align: right;\">\n",
       "      <th></th>\n",
       "      <th>tram</th>\n",
       "      <th>descripció</th>\n",
       "      <th>coordenades</th>\n",
       "    </tr>\n",
       "  </thead>\n",
       "  <tbody>\n",
       "    <tr>\n",
       "      <th>0</th>\n",
       "      <td>1</td>\n",
       "      <td>Diagonal (Ronda de Dalt a Doctor Marañón)</td>\n",
       "      <td>2.11203535639414,41.3841912394771,2.1015028628...</td>\n",
       "    </tr>\n",
       "    <tr>\n",
       "      <th>1</th>\n",
       "      <td>2</td>\n",
       "      <td>Diagonal (Doctor Marañón a Ronda de Dalt)</td>\n",
       "      <td>2.111944376806616,41.38446666680338,2.10159408...</td>\n",
       "    </tr>\n",
       "    <tr>\n",
       "      <th>2</th>\n",
       "      <td>3</td>\n",
       "      <td>Diagonal (Doctor Marañón a Pl. Pius XII)</td>\n",
       "      <td>2.112093343037027,41.38422850920645,2.12264979...</td>\n",
       "    </tr>\n",
       "  </tbody>\n",
       "</table>\n",
       "</div>"
      ],
      "text/plain": [
       "   tram                                 descripció  \\\n",
       "0     1  Diagonal (Ronda de Dalt a Doctor Marañón)   \n",
       "1     2  Diagonal (Doctor Marañón a Ronda de Dalt)   \n",
       "2     3   Diagonal (Doctor Marañón a Pl. Pius XII)   \n",
       "\n",
       "                                         coordenades  \n",
       "0  2.11203535639414,41.3841912394771,2.1015028628...  \n",
       "1  2.111944376806616,41.38446666680338,2.10159408...  \n",
       "2  2.112093343037027,41.38422850920645,2.12264979...  "
      ]
     },
     "execution_count": 113,
     "metadata": {},
     "output_type": "execute_result"
    }
   ],
   "source": [
    "df_tramos.columns = [column.lower() for column in df_tramos.columns]\n",
    "df_tramos.head(3)"
   ]
  },
  {
   "cell_type": "code",
   "execution_count": 114,
   "id": "e0d4e574",
   "metadata": {},
   "outputs": [
    {
     "data": {
      "image/svg+xml": [
       "<svg xmlns=\"http://www.w3.org/2000/svg\" xmlns:xlink=\"http://www.w3.org/1999/xlink\" width=\"100.0\" height=\"100.0\" viewBox=\"2.101180077949386 41.38145389141653 0.011178310351739107 0.003426786881355781\" preserveAspectRatio=\"xMinYMin meet\"><g transform=\"matrix(1,0,0,-1,0,82.76633456971442)\"><polyline fill=\"none\" stroke=\"#66cc99\" stroke-width=\"0.00022356620703478213\" points=\"2.111944376806616,41.38446666680338 2.101594089443895,41.38186790291103\" opacity=\"0.8\" /></g></svg>"
      ],
      "text/plain": [
       "<LINESTRING (2.112 41.384, 2.102 41.382)>"
      ]
     },
     "execution_count": 114,
     "metadata": {},
     "output_type": "execute_result"
    }
   ],
   "source": [
    "# A juzgar por las coordenadas, los tramos són lineas y no rectangulos\n",
    "point_coord = df_tramos.coordenades[1].split(\",\")\n",
    "pairs = [(point_coord[i], point_coord[i + 1]) for i in range(0, len(point_coord), 2)]\n",
    "LineString(pairs)"
   ]
  },
  {
   "cell_type": "code",
   "execution_count": 115,
   "id": "64e22a29",
   "metadata": {},
   "outputs": [
    {
     "data": {
      "text/plain": [
       "0    LINESTRING (2.11203535639414 41.3841912394771,...\n",
       "1    LINESTRING (2.111944376806616 41.3844666668033...\n",
       "2    LINESTRING (2.112093343037027 41.3842285092064...\n",
       "3    LINESTRING (2.122592049318304 41.3871909418920...\n",
       "4    LINESTRING (2.122657659295115 41.3869419579467...\n",
       "dtype: object"
      ]
     },
     "execution_count": 115,
     "metadata": {},
     "output_type": "execute_result"
    }
   ],
   "source": [
    "# Aplicamos transformaciones necesarias para generar los puntos\n",
    "lines = df_tramos\\\n",
    "    .apply(lambda row: row.coordenades.split(\",\"), axis=1)\\\n",
    "    .apply(lambda point_coord: [(float(point_coord[i]), float(point_coord[i + 1])) for i in range(0, len(point_coord), 2)])\\\n",
    "    .apply(lambda pairs: LineString(pairs))\n",
    "lines.head()"
   ]
  },
  {
   "cell_type": "code",
   "execution_count": 116,
   "id": "9d7c7895",
   "metadata": {},
   "outputs": [
    {
     "data": {
      "text/html": [
       "<div>\n",
       "<style scoped>\n",
       "    .dataframe tbody tr th:only-of-type {\n",
       "        vertical-align: middle;\n",
       "    }\n",
       "\n",
       "    .dataframe tbody tr th {\n",
       "        vertical-align: top;\n",
       "    }\n",
       "\n",
       "    .dataframe thead th {\n",
       "        text-align: right;\n",
       "    }\n",
       "</style>\n",
       "<table border=\"1\" class=\"dataframe\">\n",
       "  <thead>\n",
       "    <tr style=\"text-align: right;\">\n",
       "      <th></th>\n",
       "      <th>tram</th>\n",
       "      <th>descripció</th>\n",
       "      <th>coordenades</th>\n",
       "      <th>geometry</th>\n",
       "    </tr>\n",
       "  </thead>\n",
       "  <tbody>\n",
       "    <tr>\n",
       "      <th>0</th>\n",
       "      <td>1</td>\n",
       "      <td>Diagonal (Ronda de Dalt a Doctor Marañón)</td>\n",
       "      <td>2.11203535639414,41.3841912394771,2.1015028628...</td>\n",
       "      <td>LINESTRING (2.11204 41.38419, 2.1015 41.38163)</td>\n",
       "    </tr>\n",
       "    <tr>\n",
       "      <th>1</th>\n",
       "      <td>2</td>\n",
       "      <td>Diagonal (Doctor Marañón a Ronda de Dalt)</td>\n",
       "      <td>2.111944376806616,41.38446666680338,2.10159408...</td>\n",
       "      <td>LINESTRING (2.11194 41.38447, 2.10159 41.38187)</td>\n",
       "    </tr>\n",
       "    <tr>\n",
       "      <th>2</th>\n",
       "      <td>3</td>\n",
       "      <td>Diagonal (Doctor Marañón a Pl. Pius XII)</td>\n",
       "      <td>2.112093343037027,41.38422850920645,2.12264979...</td>\n",
       "      <td>LINESTRING (2.11209 41.38423, 2.12265 41.38693)</td>\n",
       "    </tr>\n",
       "  </tbody>\n",
       "</table>\n",
       "</div>"
      ],
      "text/plain": [
       "   tram                                 descripció  \\\n",
       "0     1  Diagonal (Ronda de Dalt a Doctor Marañón)   \n",
       "1     2  Diagonal (Doctor Marañón a Ronda de Dalt)   \n",
       "2     3   Diagonal (Doctor Marañón a Pl. Pius XII)   \n",
       "\n",
       "                                         coordenades  \\\n",
       "0  2.11203535639414,41.3841912394771,2.1015028628...   \n",
       "1  2.111944376806616,41.38446666680338,2.10159408...   \n",
       "2  2.112093343037027,41.38422850920645,2.12264979...   \n",
       "\n",
       "                                          geometry  \n",
       "0   LINESTRING (2.11204 41.38419, 2.1015 41.38163)  \n",
       "1  LINESTRING (2.11194 41.38447, 2.10159 41.38187)  \n",
       "2  LINESTRING (2.11209 41.38423, 2.12265 41.38693)  "
      ]
     },
     "execution_count": 116,
     "metadata": {},
     "output_type": "execute_result"
    }
   ],
   "source": [
    "# Creamos GeoDataFrame con las geometrias que hemos escogido\n",
    "gdf_tramos = gpd.GeoDataFrame(df_tramos, geometry=lines)\n",
    "# Asignamos sistema de referencia como longitud y latitud el código epsg:4326 és un estándard\n",
    "gdf_tramos.crs = \"epsg:4326\"\n",
    "gdf_tramos.head(3)"
   ]
  },
  {
   "cell_type": "code",
   "execution_count": 117,
   "id": "d533920e",
   "metadata": {},
   "outputs": [
    {
     "data": {
      "text/plain": [
       "<Axes: >"
      ]
     },
     "execution_count": 117,
     "metadata": {},
     "output_type": "execute_result"
    },
    {
     "data": {
      "image/png": "[encoded data removed]",
      "text/plain": [
       "<Figure size 640x480 with 1 Axes>"
      ]
     },
     "metadata": {},
     "output_type": "display_data"
    }
   ],
   "source": [
    "# Parecen las calles de barcelona incompletas pero es lo que esperábamos, no hay monitorización del estado del tránsito en todas las calles\n",
    "gdf_tramos.plot()"
   ]
  },
  {
   "cell_type": "markdown",
   "id": "fa9b23d4",
   "metadata": {},
   "source": [
    "# Join Espacial\n",
    "\n",
    "En este punto tenemos los dos dataframes espaciales preparados y en los mismos rangos de longitud y latitud. La intuición nos dice que en los tramos puede haber más de un monitor de ruido, pero que un monitor de ruido sólo deberia estar instalado en un tramo.\n",
    "Entonces el tipo de join tiene que ser un left join **instalaciones <- tramos** para obtener una tabla de mapeo."
   ]
  },
  {
   "cell_type": "code",
   "execution_count": 118,
   "id": "1d9d9aa0",
   "metadata": {},
   "outputs": [
    {
     "data": {
      "text/plain": [
       "{None,\n",
       " 'contains',\n",
       " 'contains_properly',\n",
       " 'covered_by',\n",
       " 'covers',\n",
       " 'crosses',\n",
       " 'dwithin',\n",
       " 'intersects',\n",
       " 'overlaps',\n",
       " 'touches',\n",
       " 'within'}"
      ]
     },
     "execution_count": 118,
     "metadata": {},
     "output_type": "execute_result"
    }
   ],
   "source": [
    "# Tipos de predicado válido para sjoin.\n",
    "gdf_instalaciones.sindex.valid_query_predicates"
   ]
  },
  {
   "cell_type": "code",
   "execution_count": 119,
   "id": "abb81099",
   "metadata": {},
   "outputs": [],
   "source": [
    "# Convertimos CRS al CRS proyectado más exacto para la zona de Barcelona. En este caso cogemos la respuesta de ChatGPT para no desviar-nos de lo que nos ocupa. Es un tema que se podría estudiar en más profundidad.\n",
    "gdf_instalaciones.to_crs(epsg=25831)\n",
    "gdf_tramos.to_crs(epsg=25831);"
   ]
  },
  {
   "cell_type": "code",
   "execution_count": 120,
   "id": "7e5099bc",
   "metadata": {},
   "outputs": [
    {
     "name": "stderr",
     "output_type": "stream",
     "text": [
      "c:\\Users\\Miki\\miniconda3\\envs\\powerbi\\Lib\\site-packages\\geopandas\\array.py:403: UserWarning: Geometry is in a geographic CRS. Results from 'sjoin_nearest' are likely incorrect. Use 'GeoSeries.to_crs()' to re-project geometries to a projected CRS before this operation.\n",
      "\n",
      "  warnings.warn(\n"
     ]
    },
    {
     "data": {
      "text/html": [
       "<div>\n",
       "<style scoped>\n",
       "    .dataframe tbody tr th:only-of-type {\n",
       "        vertical-align: middle;\n",
       "    }\n",
       "\n",
       "    .dataframe tbody tr th {\n",
       "        vertical-align: top;\n",
       "    }\n",
       "\n",
       "    .dataframe thead th {\n",
       "        text-align: right;\n",
       "    }\n",
       "</style>\n",
       "<table border=\"1\" class=\"dataframe\">\n",
       "  <thead>\n",
       "    <tr style=\"text-align: right;\">\n",
       "      <th></th>\n",
       "      <th>id_instal</th>\n",
       "      <th>codi_carrer</th>\n",
       "      <th>tipus_via</th>\n",
       "      <th>nom_carrer</th>\n",
       "      <th>num_carrer</th>\n",
       "      <th>codi_barri</th>\n",
       "      <th>nom_barri</th>\n",
       "      <th>codi_districte</th>\n",
       "      <th>nom_districte</th>\n",
       "      <th>latitud</th>\n",
       "      <th>...</th>\n",
       "      <th>etrs89_x</th>\n",
       "      <th>etrs89_y</th>\n",
       "      <th>data_instalacio</th>\n",
       "      <th>data_desinstalacio</th>\n",
       "      <th>font</th>\n",
       "      <th>geometry</th>\n",
       "      <th>index_right</th>\n",
       "      <th>tram</th>\n",
       "      <th>descripció</th>\n",
       "      <th>coordenades</th>\n",
       "    </tr>\n",
       "  </thead>\n",
       "  <tbody>\n",
       "    <tr>\n",
       "      <th>0</th>\n",
       "      <td>186</td>\n",
       "      <td>348408</td>\n",
       "      <td>C</td>\n",
       "      <td>Tuset</td>\n",
       "      <td>8</td>\n",
       "      <td>26</td>\n",
       "      <td>Galvany</td>\n",
       "      <td>5</td>\n",
       "      <td>Sarrià-Sant Gervasi</td>\n",
       "      <td>41.395450</td>\n",
       "      <td>...</td>\n",
       "      <td>429172.441</td>\n",
       "      <td>4583003.592</td>\n",
       "      <td>29/01/2014</td>\n",
       "      <td>16/01/2015</td>\n",
       "      <td>OCI</td>\n",
       "      <td>POINT (2.15275 41.39545)</td>\n",
       "      <td>103</td>\n",
       "      <td>104</td>\n",
       "      <td>Diagonal (Balmes a Pl. Francesc Macià)</td>\n",
       "      <td>2.145092239861253,41.39293570944426,2.15461581...</td>\n",
       "    </tr>\n",
       "    <tr>\n",
       "      <th>1</th>\n",
       "      <td>187</td>\n",
       "      <td>348408</td>\n",
       "      <td>C</td>\n",
       "      <td>Tuset</td>\n",
       "      <td>17</td>\n",
       "      <td>26</td>\n",
       "      <td>Galvany</td>\n",
       "      <td>5</td>\n",
       "      <td>Sarrià-Sant Gervasi</td>\n",
       "      <td>41.396156</td>\n",
       "      <td>...</td>\n",
       "      <td>429073.823</td>\n",
       "      <td>4583082.946</td>\n",
       "      <td>29/01/2014</td>\n",
       "      <td>16/01/2015</td>\n",
       "      <td>OCI</td>\n",
       "      <td>POINT (2.15156 41.39616)</td>\n",
       "      <td>101</td>\n",
       "      <td>102</td>\n",
       "      <td>Travessera de Gràcia (Aribau a Via Augusta)</td>\n",
       "      <td>2.149330405746273,41.39593880954032,2.15319461...</td>\n",
       "    </tr>\n",
       "    <tr>\n",
       "      <th>2</th>\n",
       "      <td>206</td>\n",
       "      <td>112208</td>\n",
       "      <td>C</td>\n",
       "      <td>Escudellers</td>\n",
       "      <td>53</td>\n",
       "      <td>2</td>\n",
       "      <td>el Barri Gòtic</td>\n",
       "      <td>1</td>\n",
       "      <td>Ciutat Vella</td>\n",
       "      <td>41.380127</td>\n",
       "      <td>...</td>\n",
       "      <td>431177.000</td>\n",
       "      <td>4581283.000</td>\n",
       "      <td>05/02/2014</td>\n",
       "      <td>30/01/2015</td>\n",
       "      <td>OCI</td>\n",
       "      <td>POINT (2.17692 41.38013)</td>\n",
       "      <td>291</td>\n",
       "      <td>292</td>\n",
       "      <td>Passeig de Colom (Pl. Antonio López a Pl. Port...</td>\n",
       "      <td>2.182102513985287,41.38137656982789,2.17789501...</td>\n",
       "    </tr>\n",
       "  </tbody>\n",
       "</table>\n",
       "<p>3 rows × 21 columns</p>\n",
       "</div>"
      ],
      "text/plain": [
       "   id_instal  codi_carrer tipus_via   nom_carrer num_carrer  codi_barri  \\\n",
       "0        186       348408         C        Tuset          8          26   \n",
       "1        187       348408         C        Tuset         17          26   \n",
       "2        206       112208         C  Escudellers         53           2   \n",
       "\n",
       "        nom_barri  codi_districte        nom_districte    latitud  ...  \\\n",
       "0         Galvany               5  Sarrià-Sant Gervasi  41.395450  ...   \n",
       "1         Galvany               5  Sarrià-Sant Gervasi  41.396156  ...   \n",
       "2  el Barri Gòtic               1         Ciutat Vella  41.380127  ...   \n",
       "\n",
       "     etrs89_x     etrs89_y  data_instalacio data_desinstalacio font  \\\n",
       "0  429172.441  4583003.592       29/01/2014         16/01/2015  OCI   \n",
       "1  429073.823  4583082.946       29/01/2014         16/01/2015  OCI   \n",
       "2  431177.000  4581283.000       05/02/2014         30/01/2015  OCI   \n",
       "\n",
       "                   geometry index_right  tram  \\\n",
       "0  POINT (2.15275 41.39545)         103   104   \n",
       "1  POINT (2.15156 41.39616)         101   102   \n",
       "2  POINT (2.17692 41.38013)         291   292   \n",
       "\n",
       "                                          descripció  \\\n",
       "0             Diagonal (Balmes a Pl. Francesc Macià)   \n",
       "1        Travessera de Gràcia (Aribau a Via Augusta)   \n",
       "2  Passeig de Colom (Pl. Antonio López a Pl. Port...   \n",
       "\n",
       "                                         coordenades  \n",
       "0  2.145092239861253,41.39293570944426,2.15461581...  \n",
       "1  2.149330405746273,41.39593880954032,2.15319461...  \n",
       "2  2.182102513985287,41.38137656982789,2.17789501...  \n",
       "\n",
       "[3 rows x 21 columns]"
      ]
     },
     "execution_count": 120,
     "metadata": {},
     "output_type": "execute_result"
    }
   ],
   "source": [
    "# Vamos a ignorar el warning por que ya hemos tenido en cuenta su mensaje previamente.\n",
    "ubicaciones = gpd.sjoin_nearest(gdf_instalaciones,gdf_tramos,how=\"left\",max_distance=10)\n",
    "ubicaciones.head(3)"
   ]
  },
  {
   "cell_type": "code",
   "execution_count": 121,
   "id": "de4e265b",
   "metadata": {},
   "outputs": [],
   "source": [
    "# Exportamos a CSV\n",
    "ubicaciones.to_csv(\"./csv/ubicaciones.csv\")"
   ]
  },
  {
   "cell_type": "markdown",
   "id": "a1f8378b",
   "metadata": {},
   "source": [
    "## Referencias de interés\n",
    "* [What is a coordinate reference system CRS?](https://www.youtube.com/watch?v=xJyJlKbZFlc&list=PLewNEVDy7gq3DjrPDxGFLbHE4G2QWe8Qh&index=8)\n",
    "* [Opening CSV files with GeoPandas](https://www.youtube.com/watch?v=EsSU0SSBPw8&list=PLewNEVDy7gq3DjrPDxGFLbHE4G2QWe8Qh&index=7)\n",
    "* [Spatial joins with Geopandas](https://www.youtube.com/watch?v=y85IKthrV-s&list=PLewNEVDy7gq3DjrPDxGFLbHE4G2QWe8Qh&index=11)\n",
    "* [Spatial joins with Geopanadas 2](https://www.youtube.com/watch?v=mV8bqV2j46M&list=PLewNEVDy7gq3DjrPDxGFLbHE4G2QWe8Qh&index=12)\n",
    "* [Geopandas Documentation](https://geopandas.org/en/stable/docs.html)\n",
    "* [Shapely User Manual](https://shapely.readthedocs.io/en/stable/manual.html)"
   ]
  }
 ],
 "metadata": {
  "kernelspec": {
   "display_name": "powerbi",
   "language": "python",
   "name": "python3"
  },
  "language_info": {
   "codemirror_mode": {
    "name": "ipython",
    "version": 3
   },
   "file_extension": ".py",
   "mimetype": "text/x-python",
   "name": "python",
   "nbconvert_exporter": "python",
   "pygments_lexer": "ipython3",
   "version": "3.13.2"
  }
 },
 "nbformat": 4,
 "nbformat_minor": 5
}
